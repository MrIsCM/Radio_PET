{
 "cells": [
  {
   "cell_type": "code",
   "execution_count": 1,
   "metadata": {},
   "outputs": [],
   "source": [
    "import pandas as pd\n",
    "import numpy as np\n",
    "import matplotlib.pyplot as plt\n",
    "import seaborn as sns\n",
    "from scipy import stats\n",
    "\n",
    "from pathlib import Path\n",
    "\n",
    "plt.rcParams['figure.figsize'] = (10, 6)\n",
    "plt.rcParams['font.size'] = 15"
   ]
  },
  {
   "cell_type": "code",
   "execution_count": 2,
   "metadata": {},
   "outputs": [],
   "source": [
    "# ===========================\n",
    "# \t\tUsefull paths\n",
    "# ===========================\n",
    "\n",
    "# Data folders\n",
    "data_folder = Path('../Apartado1')\n",
    "C11_folder = data_folder / 'C11'\n",
    "N13_folder = data_folder / 'N13'\n",
    "O15_folder = data_folder / 'O15'\n",
    "F18_folder = data_folder / 'F18'\n",
    "Ga68_folder = data_folder / 'Ga68'\n",
    "Rb82_folder = data_folder / 'Rb82'\n",
    "\n",
    "# Test\n",
    "test_folder = Path('../PET-resultados')\n",
    "\n",
    "# Plots output folder\n",
    "figures_folder = Path('Figures')\n",
    "\n",
    "# ===========================\n",
    "\n",
    "# Energy file name\n",
    "energy_file = 'ini-ene.his'\n",
    "anniquilation_file = 'ann-pos.his'\n",
    "\n",
    "# Output folder (text files)\n",
    "output_folder = Path('Outputs')"
   ]
  },
  {
   "cell_type": "markdown",
   "metadata": {},
   "source": [
    "# Apartado 1"
   ]
  },
  {
   "cell_type": "code",
   "execution_count": 3,
   "metadata": {},
   "outputs": [],
   "source": [
    "def read_his(path, sep, skiprows, col_names):\n",
    "\treturn pd.read_csv(path, sep=sep, skiprows=skiprows, names=col_names)"
   ]
  },
  {
   "cell_type": "code",
   "execution_count": 4,
   "metadata": {},
   "outputs": [],
   "source": [
    "def plot_ene_his(*datas, labels, colors, title, xlabel, ylabel, save=False, save_name=None):\n",
    "\tplt.figure(figsize=(10, 6))\n",
    "\tfor i, data in enumerate(datas):\n",
    "\t\tplt.errorbar(data['Energy'], data['Norm.Prob'], yerr=data['Norm.Error'], fmt='None', label=labels[i], color=colors[i], capsize=3)\n",
    "\t\tplt.plot(data['Energy'], data['Norm.Prob'], color=colors[i])\n",
    "\n",
    "\tplt.title(title)\n",
    "\tplt.xlabel(xlabel)\n",
    "\tplt.ylabel(ylabel)\n",
    "\tplt.legend()\n",
    "\t\n",
    "\t\n",
    "\tif save:\n",
    "\t\tplt.savefig(save_name, format='pdf')\n",
    "\n",
    "\t# plt.show()"
   ]
  },
  {
   "cell_type": "code",
   "execution_count": 5,
   "metadata": {},
   "outputs": [],
   "source": [
    "def plot_ene_eq(*datas, labels, colors, title, xlabel, ylabel, save=False, save_name=None):\n",
    "\tplt.figure(figsize=(10, 6))\n",
    "\tfor i, data in enumerate(datas):\n",
    "\t\tplt.errorbar(data['Energy'], data['Eq.Prob'], yerr=data['Eq.Error'], fmt='None', label=labels[i], color=colors[i], capsize=3)\n",
    "\t\tplt.plot(data['Energy'], data['Eq.Prob'], color=colors[i])\n",
    "\n",
    "\tplt.title(title)\n",
    "\tplt.xlabel(xlabel)\n",
    "\tplt.ylabel(ylabel)\n",
    "\tplt.legend()\n",
    "\t\n",
    "\t\n",
    "\tif save:\n",
    "\t\tplt.savefig(save_name, format='pdf')\n",
    "\n",
    "\t# plt.show()"
   ]
  },
  {
   "cell_type": "code",
   "execution_count": 6,
   "metadata": {},
   "outputs": [],
   "source": [
    "def normalize_prob_error(data):\n",
    "\tdata['Norm.Prob'] = data['Prob'] / data['Prob'].sum()\n",
    "\tdata['Norm.Error'] = data['Error'] / data['Prob'].sum()\n",
    "\tdata['Eq.Prob'] = data['Prob'] / data['Prob'].max()\n",
    "\tdata['Eq.Error'] = data['Error'] / data['Prob'].max()\n",
    "\treturn data"
   ]
  },
  {
   "cell_type": "code",
   "execution_count": 7,
   "metadata": {},
   "outputs": [],
   "source": [
    "def media_error(data):\n",
    "\tmedia = (data['Norm.Prob'] * data['Energy']).sum()\n",
    "\terror = np.sqrt(((data['Norm.Error'] * data['Energy'])**2).sum())\n",
    "\treturn media, error"
   ]
  },
  {
   "cell_type": "code",
   "execution_count": 8,
   "metadata": {},
   "outputs": [],
   "source": [
    "def df_media_error(isotopes, means, errors):\n",
    "\tdf = pd.DataFrame({'Isótopo': isotopes, 'Media (keV)': means, 'Error (keV)': errors})\n",
    "\tdf['Media (keV)'] = df['Media (keV)'].round(0)\n",
    "\tdf['Error (keV)'] = df['Error (keV)'].round(0)\n",
    "\treturn df"
   ]
  },
  {
   "cell_type": "code",
   "execution_count": 9,
   "metadata": {},
   "outputs": [],
   "source": [
    "def emission_hardcoded():\n",
    "# Create the data as a dictionary\n",
    "\tdata = {\n",
    "\t\t'Isótopo': ['C11', 'N13', 'O15', 'F18', 'Ga68', 'Rb82'],\n",
    "\t\t't_medio (min)': [20.36, 9.97, 2.04, 109.73, 67.83, 1.27],\n",
    "\t\t'Emax (MeV)': [0.96, 1.20, 1.74, 0.63, 1.90, 3.38]\n",
    "\t}\n",
    "\n",
    "\tdf = pd.DataFrame(data)\n",
    "\tdf['Emax (keV)'] = df['Emax (MeV)'] * 1000\n",
    "\n",
    "\treturn df"
   ]
  },
  {
   "cell_type": "code",
   "execution_count": 10,
   "metadata": {},
   "outputs": [],
   "source": [
    "def plot_regg_media_emax(df, save=False, save_name=None):\n",
    "\n",
    "\t# Linear regression\n",
    "\tresults = stats.linregress(df['Emax (keV)'], df['Media (keV)'])\n",
    "\n",
    "\t# Plot\n",
    "\tx = np.linspace(df['Emax (keV)'].min(), df['Emax (keV)'].max(), 100)\n",
    "\ty = results.intercept + results.slope * x\n",
    "\tr2 = results.rvalue**2\n",
    "\n",
    "\tprint(f\"Resultados ajuste lineal:\")\n",
    "\tprint(f\"Pendiente: {results.slope:.5f} ± {results.stderr:.5f}\")\n",
    "\tprint(f\"Intercepto: {results.intercept:.5f} ± {results.intercept_stderr:.5f}\")\n",
    "\tprint(f\"Coeficiente de correlación: {results.rvalue:.5f}\")\n",
    "\tprint(f\"Coeficiente de determinación: {r2:.5f}\")\n",
    "\t\n",
    "\n",
    "\n",
    "\tplt.figure(figsize=(10, 6))\n",
    "\tplt.errorbar(df['Emax (keV)'], df['Media (keV)'], yerr=df['Error (keV)'], fmt='o', capsize=4, label='Datos')\n",
    "\tplt.plot(x, y, 'r--', label=f'Ajuste lineal')\n",
    "\tplt.title('Energía media detectada frente a energía máxima de emisión')\n",
    "\tplt.xlabel('Energía máxima (keV)')\n",
    "\tplt.ylabel('Energía media (keV)')\n",
    "\n",
    "\tplt.legend()\n",
    "\n",
    "\tif save:\n",
    "\t\tplt.savefig(save_name, format='pdf')\n",
    "\n",
    "\t# plt.show()"
   ]
  },
  {
   "cell_type": "code",
   "execution_count": 24,
   "metadata": {},
   "outputs": [],
   "source": [
    "def main1():\n",
    "\tcol_names = ['Energy', 'Prob', 'Error']\n",
    "\tsep = r'\\s+'\n",
    "\tskiprows = 1\n",
    "\n",
    "\t# Read energy files\n",
    "\tC11_energy = read_his(C11_folder / energy_file, sep, skiprows, col_names)\n",
    "\tC11_energy = normalize_prob_error(C11_energy)\n",
    "\tN13_energy = read_his(N13_folder / energy_file, sep, skiprows, col_names)\n",
    "\tN13_energy = normalize_prob_error(N13_energy)\n",
    "\tO15_energy = read_his(O15_folder / energy_file, sep, skiprows, col_names)\n",
    "\tO15_energy = normalize_prob_error(O15_energy)\n",
    "\tF18_energy = read_his(F18_folder / energy_file, sep, skiprows, col_names)\n",
    "\tF18_energy = normalize_prob_error(F18_energy)\n",
    "\tGa68_energy = read_his(Ga68_folder / energy_file, sep, skiprows, col_names)\n",
    "\tGa68_energy = normalize_prob_error(Ga68_energy)\n",
    "\tRb82_energy = read_his(Rb82_folder / energy_file, sep, skiprows, col_names)\n",
    "\tRb82_energy = normalize_prob_error(Rb82_energy)\n",
    "\n",
    "\t# Plot energy files\n",
    "\n",
    "\t# Params for one plot\n",
    "\tdatas = [C11_energy, N13_energy, O15_energy, F18_energy, Ga68_energy, Rb82_energy]\n",
    "\tlabels = ['C11', 'N13', 'O15', 'F18', 'Ga68', 'Rb82']\n",
    "\tcolors = ['blue', 'green', 'red', 'purple', 'orange', 'brown']\n",
    "\tsave_name = figures_folder / 'espectro_norm_todo.pdf'\n",
    "\n",
    "\t# Calculate mean and error for each isotope\n",
    "\tisotopes = ['$^{11}$C', '$^{13}$N', '$^{15}$O', '$^{18}$F', '$^{68}$Ga', '$^{82}$Rb']\n",
    "\tiso = ['C11', 'N13', 'O15', 'F18', 'Ga68', 'Rb82']\n",
    "\tmeans = []\n",
    "\terrors = []\n",
    "\tfor data in datas:\n",
    "\t\tmean, error = media_error(data)\n",
    "\t\tmeans.append(mean)\n",
    "\t\terrors.append(error)\n",
    "\n",
    "\t# Save mean and error to a file\n",
    "\tdf = df_media_error(iso, means, errors)\n",
    "\t# print(df)\n",
    "\t# df.to_latex(output_folder / 'medias_errores.tex', index=False)\n",
    "\n",
    "\temission_data = emission_hardcoded()\n",
    "\t# print(emission_data)\n",
    "\n",
    "\t# Merge both dataframes\n",
    "\tdf = pd.merge(df, emission_data, on='Isótopo')\n",
    "\tprint(df)\t\n",
    "\n",
    "\n",
    "\t# Params for 2 plots\n",
    "\tdatas1 = [C11_energy, N13_energy, F18_energy]\n",
    "\tlabels1 = ['C11', 'N13', 'F18']\n",
    "\tcolors1 = ['blue', 'green', 'purple']\n",
    "\tsave_name1 = figures_folder / 'espectro_norm1.pdf'\n",
    "\t\n",
    "\tdatas2 = [O15_energy, Ga68_energy, Rb82_energy]\n",
    "\tlabels2 = ['O15', 'Ga68', 'Rb82']\n",
    "\tcolors2 = ['red', 'orange', 'brown']\n",
    "\tsave_name2 = figures_folder / 'espectro_norm2.pdf'\n",
    "\n",
    "\t# Common params\n",
    "\txlabel = 'Energía (keV)'\n",
    "\tylabel = r'Densidad de probabilidad $\\left[ \\frac{1}{keV} \\right]$'\n",
    "\ttitle = 'Espectro de energía para distintos radioisótopos'\n",
    "\n",
    "\t# Save?\n",
    "\tsave = True\n",
    "\n",
    "\t# plot_regg_media_emax(df, save=save, save_name=figures_folder / 'regresion_media_emax.pdf')\n",
    "\n",
    "\t# # In two plots\n",
    "\t# plot_ene_his(*datas1, labels=labels1, colors=colors1, title=title, xlabel=xlabel, ylabel=ylabel, save=save, save_name=save_name1)\n",
    "\t# plot_ene_his(*datas2, labels=labels2, colors=colors2, title=title, xlabel=xlabel, ylabel=ylabel, save=save, save_name=save_name2)\n",
    "\n",
    "\t# # In one plot\n",
    "\t# plot_ene_his(*datas, labels=labels, colors=colors, title=title, xlabel=xlabel, ylabel=ylabel, save=save, save_name=save_name)\n",
    "\n",
    "\t# # Equalized peaks\n",
    "\t# plot_ene_eq(*datas, labels=labels, colors=colors, title=title, xlabel=xlabel, ylabel=ylabel, save=save, save_name=figures_folder / 'espectro_eq.pdf')"
   ]
  },
  {
   "cell_type": "code",
   "execution_count": 25,
   "metadata": {},
   "outputs": [],
   "source": [
    "# main1()"
   ]
  },
  {
   "cell_type": "markdown",
   "metadata": {},
   "source": [
    "# Apartado 2"
   ]
  },
  {
   "cell_type": "code",
   "execution_count": 26,
   "metadata": {},
   "outputs": [],
   "source": [
    "def normalize_data(data, col_names_to_normalize):\n",
    "\tfor column in col_names_to_normalize:\n",
    "\t\tnew_col_name = 'Norm.' + str(column)\n",
    "\t\tdata[new_col_name] = data[column]/data[column].sum()\n",
    "\n",
    "\treturn"
   ]
  },
  {
   "cell_type": "code",
   "execution_count": 27,
   "metadata": {},
   "outputs": [],
   "source": [
    "def read_ann(path, sep, skiprows, col_names, normalize=True, cols_to_normalize=None):\n",
    "\tdata = pd.read_csv(path, sep=sep, skiprows=skiprows, names=col_names)\n",
    "\tif normalize:\n",
    "\t\tnormalize_data(data, cols_to_normalize)\n",
    "\treturn data"
   ]
  },
  {
   "cell_type": "code",
   "execution_count": 28,
   "metadata": {},
   "outputs": [],
   "source": [
    "def medias_hardcoded(write=False, path=None):\n",
    "\tdata_medias = {\n",
    "\t\t'Isótopo': ['F18', 'C11', 'N13', 'O15', 'Ga68', 'Rb82'],\n",
    "\t\t'Media (keV)': [254, 385, 493, 740, 838, 1534],\n",
    "\t\t'Error (keV)': [1, 2, 2, 3, 3, 5]\n",
    "\t}\n",
    "\n",
    "\tdata_medias = pd.DataFrame(data_medias)\n",
    "\n",
    "\tif write:\n",
    "\t\tdata_medias.to_csv(path, index=False)\n",
    "\n",
    "\treturn data_medias"
   ]
  },
  {
   "cell_type": "code",
   "execution_count": 29,
   "metadata": {},
   "outputs": [],
   "source": [
    "def r_media_error(data):\n",
    "\tmedia = (data['Norm.Cuentas'] * data['r']).sum()\n",
    "\terror = np.sqrt((data['r'] * (data['Norm.Error'])**2).sum())\n",
    "\n",
    "\treturn media, error"
   ]
  },
  {
   "cell_type": "code",
   "execution_count": 65,
   "metadata": {},
   "outputs": [],
   "source": [
    "def medias_df(isotopes, medias, errors):\n",
    "\tdf = pd.DataFrame({'Isótopo': isotopes, 'Media (cm)': medias, 'Error (cm)': errors})\n",
    "\t\n",
    "\treturn df"
   ]
  },
  {
   "cell_type": "code",
   "execution_count": 80,
   "metadata": {},
   "outputs": [],
   "source": [
    "# Params\n",
    "sep=r'\\s+'\n",
    "skiprows = 1\n",
    "col_names = ['r', 'Cuentas', 'Error']\n",
    "\n",
    "normalize = True\n",
    "cols_to_normalize = col_names[-2:]\n",
    "\n",
    "# Read data\n",
    "C11_ann = read_ann(C11_folder / anniquilation_file, sep=sep, skiprows=skiprows, col_names=col_names, normalize=normalize, cols_to_normalize=cols_to_normalize)\n",
    "F18_ann = read_ann(F18_folder / anniquilation_file, sep=sep, skiprows=skiprows, col_names=col_names, normalize=normalize, cols_to_normalize=cols_to_normalize)\n",
    "N13_ann = read_ann(N13_folder / anniquilation_file, sep=sep, skiprows=skiprows, col_names=col_names, normalize=normalize, cols_to_normalize=cols_to_normalize)\n",
    "O15_ann = read_ann(O15_folder / anniquilation_file, sep=sep, skiprows=skiprows, col_names=col_names, normalize=normalize, cols_to_normalize=cols_to_normalize)\n",
    "Ga68_ann = read_ann(Ga68_folder / anniquilation_file, sep=sep, skiprows=skiprows, col_names=col_names, normalize=normalize, cols_to_normalize=cols_to_normalize)\n",
    "Rb82_ann = read_ann(Rb82_folder / anniquilation_file, sep=sep, skiprows=skiprows, col_names=col_names, normalize=normalize, cols_to_normalize=cols_to_normalize)\n",
    "\n",
    "datas = [C11_ann, N13_ann, O15_ann, F18_ann, Ga68_ann, Rb82_ann]\n",
    "\n",
    "iso_names = ['C11', 'N13', 'O15', 'F18', 'Ga68', 'Rb82']\n",
    "\n",
    "medias = []\n",
    "errors = []\n",
    "\n",
    "for data in datas:\n",
    "\tmedia, error = r_media_error(data)\n",
    "\tmedias.append(media)\n",
    "\terrors.append(error)\n",
    "\n",
    "medias = medias_df(iso_names, medias, errors)\n",
    "energias_medias = medias_hardcoded()\n",
    "df = pd.merge(medias, energias_medias, on='Isótopo')"
   ]
  },
  {
   "cell_type": "code",
   "execution_count": 81,
   "metadata": {},
   "outputs": [
    {
     "name": "stdout",
     "output_type": "stream",
     "text": [
      "Ajuste lineal:\n",
      "Pendiente: 2580.94103 ± 50.66379\n",
      "Intercepto: 153.47696 ± 13.63725\n",
      "Coeficiente de correlación: 0.99923\n",
      "Coeficiente de determinación: 0.99846\n",
      "P-valor: 8.886175901342666e-07\n"
     ]
    },
    {
     "data": {
      "image/png": "[encoded data removed]",
      "text/plain": [
       "<Figure size 1000x600 with 1 Axes>"
      ]
     },
     "metadata": {},
     "output_type": "display_data"
    }
   ],
   "source": [
    "# Some parameters\n",
    "colors = ['blue', 'green', 'red', 'purple', 'orange', 'brown']\n",
    "labels = list(df['Isótopo'])\n",
    "\n",
    "# Data to x, y lists\n",
    "x = list(df['Media (cm)'])\n",
    "xerr = list(df['Error (cm)'])\n",
    "y = list(df['Media (keV)'])\n",
    "yerr = list(df['Error (keV)'])\n",
    "\n",
    "# Linear reg\n",
    "\n",
    "results = stats.linregress(x, y)\n",
    "x_line = np.linspace(0, 0.65, 100)\n",
    "y_line = results.intercept + results.slope * x_line\n",
    "\n",
    "# Plot\n",
    "plt.figure()\n",
    "plt.errorbar(x, y, xerr=xerr, yerr=yerr, fmt='None', capsize=4, label='Datos')\n",
    "plt.plot(x, y, 'k.')\n",
    "\n",
    "plt.plot(x_line, y_line, 'r--', label=f'Ajuste lineal')\n",
    "\n",
    "for i, txt in enumerate(labels):\n",
    "\tplt.annotate(txt, (x[i], y[i]), textcoords=\"offset points\", xytext=(0, 10), ha='center')\n",
    "\n",
    "plt.xlim(0, 0.65)\n",
    "\n",
    "plt.xlabel('Radio medio de aniquilación (cm)')\n",
    "plt.ylabel('Energía media (keV)')\n",
    "plt.title('Relación entre radio medio de aniquilación y energía media detectada')\n",
    "plt.legend()\n",
    "plt.savefig(figures_folder / 'regresion_media_r.pdf', format='pdf')\n",
    "\n",
    "print(f'Ajuste lineal:')\n",
    "print(f'Pendiente: {results.slope:.5f} ± {results.stderr:.5f}')\n",
    "print(f'Intercepto: {results.intercept:.5f} ± {results.intercept_stderr:.5f}')\n",
    "print(f'Coeficiente de correlación: {results.rvalue:.5f}')\n",
    "print(f'Coeficiente de determinación: {results.rvalue**2:.5f}')\n",
    "print(f'P-valor: {results.pvalue}')"
   ]
  }
 ],
 "metadata": {
  "kernelspec": {
   "display_name": "Python 3",
   "language": "python",
   "name": "python3"
  },
  "language_info": {
   "codemirror_mode": {
    "name": "ipython",
    "version": 3
   },
   "file_extension": ".py",
   "mimetype": "text/x-python",
   "name": "python",
   "nbconvert_exporter": "python",
   "pygments_lexer": "ipython3",
   "version": "3.12.1"
  }
 },
 "nbformat": 4,
 "nbformat_minor": 2
}
