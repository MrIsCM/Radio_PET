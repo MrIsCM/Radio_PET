{
 "cells": [
  {
   "cell_type": "code",
   "execution_count": 55,
   "metadata": {},
   "outputs": [],
   "source": [
    "import numpy as np\n",
    "import pandas as pd\n",
    "import matplotlib.pyplot as plt\n",
    "import seaborn as sns\n",
    "\n",
    "from pathlib import Path\n",
    "\n",
    "plt.rcParams['figure.figsize'] = (10, 6)\n",
    "plt.rcParams['font.size'] = 15"
   ]
  },
  {
   "cell_type": "code",
   "execution_count": 25,
   "metadata": {},
   "outputs": [],
   "source": [
    "# Usefull paths and variables\n",
    "\n",
    "data_path = Path(\".\")\n",
    "data_apartado1 = Path('../Apartado1')\n",
    "\n",
    "elements = ['F18', 'C11', 'N13', 'O15', 'Ga68', 'Rb82']"
   ]
  },
  {
   "cell_type": "code",
   "execution_count": 33,
   "metadata": {},
   "outputs": [],
   "source": [
    "def medias_hardcoded(write=False, path=None):\n",
    "\tdata_medias = {\n",
    "\t\t'Isótopo': ['F18', 'C11', 'N13', 'O15', 'Ga68', 'Rb82'],\n",
    "\t\t'Media (keV)': [254, 385, 493, 740, 838, 1534],\n",
    "\t\t'Error (keV)': [1, 2, 2, 3, 3, 5]\n",
    "\t}\n",
    "\n",
    "\tdata_medias = pd.DataFrame(data_medias)\n",
    "\n",
    "\tif write:\n",
    "\t\tdata_medias.to_csv(path, index=False)\n",
    "\n",
    "\treturn data_medias"
   ]
  },
  {
   "cell_type": "code",
   "execution_count": 16,
   "metadata": {},
   "outputs": [],
   "source": [
    "def move_data(dest_path):\n",
    "\this_files = list(data_path.glob('*.his'))\n",
    "\tsal_files = list(data_path.glob('*.SAL'))\n",
    "\tout_files = list(data_path.glob('*.out'))\n",
    "\n",
    "\tfor file in his_files + sal_files + out_files:\n",
    "\t\tfile.rename(dest_path / file.name)\n",
    "\n",
    "\treturn"
   ]
  },
  {
   "cell_type": "code",
   "execution_count": 17,
   "metadata": {},
   "outputs": [],
   "source": [
    "def output(simbolo, E, dest_path):\n",
    "\tdest_path.mkdir(exist_ok=True)\n",
    "\tinput_text = dest_path / 'input_data.txt'\n",
    "\twith open(input_text, 'w') as file:\n",
    "\t\tfile.write(f'Elemento = {simbolo}\\n')\n",
    "\t\tfile.write('\\n*************************************\\n')\n",
    "\t\tfile.write('Emisión de positrones con energía:\\n')\n",
    "\t\tfile.write(f'E = {E} MeV\\n')\n",
    "\t\tfile.write('\\n*************************************\\n')\n",
    "\n",
    "\tmove_data(dest_path)\n",
    "\n",
    "\treturn"
   ]
  },
  {
   "cell_type": "code",
   "execution_count": 34,
   "metadata": {},
   "outputs": [],
   "source": [
    "data_medias = medias_hardcoded(write=True, path=data_path / 'data_medias.csv')"
   ]
  },
  {
   "cell_type": "code",
   "execution_count": 40,
   "metadata": {},
   "outputs": [
    {
     "name": "stdout",
     "output_type": "stream",
     "text": [
      "Elemento: C11\n",
      "Energía: 0.385 MeV\n"
     ]
    }
   ],
   "source": [
    "simbolo = 'C11'\n",
    "E = data_medias.loc[data_medias['Isótopo'] == simbolo, 'Media (keV)'].values[0] / 1000\n",
    "print(f'Elemento: {simbolo}\\nEnergía: {E} MeV')"
   ]
  },
  {
   "cell_type": "code",
   "execution_count": 46,
   "metadata": {},
   "outputs": [],
   "source": [
    "dest_path = data_path / simbolo\n",
    "output(simbolo=simbolo, E=E, dest_path=dest_path)"
   ]
  },
  {
   "cell_type": "code",
   "execution_count": 52,
   "metadata": {},
   "outputs": [],
   "source": [
    "columns = ['Energía', 'Cuentas', 'Error']\n",
    "skiprows = 1\n",
    "file_name = 'ini-ene.his'\n",
    "sep=r'\\s+'\n",
    "\n",
    "f18 = pd.read_csv(data_apartado1 / 'F18' / file_name, sep=r'\\s+', skiprows=skiprows, names=columns)\n",
    "c11 = pd.read_csv(data_apartado1 / 'C11' / file_name, sep=r'\\s+', skiprows=skiprows, names=columns)"
   ]
  },
  {
   "cell_type": "code",
   "execution_count": 53,
   "metadata": {},
   "outputs": [],
   "source": [
    "f18_positrons = pd.read_csv(data_path / 'F18' / file_name, sep=sep, skiprows=skiprows, names=columns)\n",
    "c11_positrons = pd.read_csv(data_path / 'C11' / file_name, sep=sep, skiprows=skiprows, names=columns)"
   ]
  },
  {
   "cell_type": "code",
   "execution_count": 54,
   "metadata": {},
   "outputs": [
    {
     "data": {
      "text/plain": [
       "[<matplotlib.lines.Line2D at 0x22a1ce60dd0>]"
      ]
     },
     "execution_count": 54,
     "metadata": {},
     "output_type": "execute_result"
    },
    {
     "data": {
      "image/png": "[encoded data removed]",
      "text/plain": [
       "<Figure size 640x480 with 1 Axes>"
      ]
     },
     "metadata": {},
     "output_type": "display_data"
    }
   ],
   "source": [
    "plt.plot(c11_positrons['Energía'], c11_positrons['Cuentas'])"
   ]
  }
 ],
 "metadata": {
  "kernelspec": {
   "display_name": "Python 3",
   "language": "python",
   "name": "python3"
  },
  "language_info": {
   "codemirror_mode": {
    "name": "ipython",
    "version": 3
   },
   "file_extension": ".py",
   "mimetype": "text/x-python",
   "name": "python",
   "nbconvert_exporter": "python",
   "pygments_lexer": "ipython3",
   "version": "3.12.1"
  }
 },
 "nbformat": 4,
 "nbformat_minor": 2
}
